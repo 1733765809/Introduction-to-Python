{
 "cells": [
  {
   "cell_type": "markdown",
   "metadata": {
    "collapsed": true,
    "pycharm": {
     "name": "#%% md\n"
    }
   },
   "source": [
    "## 数据类型\n",
    "Python主要包括4类基本数据类型，包括整数(integer), 浮点(float), 复数(complex) and 布尔值(booleans)."
   ]
  },
  {
   "cell_type": "code",
   "execution_count": null,
   "metadata": {
    "pycharm": {
     "name": "#%%\n"
    }
   },
   "outputs": [],
   "source": [
    "type(5)"
   ]
  },
  {
   "cell_type": "code",
   "execution_count": null,
   "metadata": {
    "pycharm": {
     "name": "#%%\n"
    }
   },
   "outputs": [],
   "source": [
    "type(3.14)"
   ]
  },
  {
   "cell_type": "code",
   "execution_count": null,
   "metadata": {
    "pycharm": {
     "name": "#%%\n"
    }
   },
   "outputs": [],
   "source": [
    "type(1. + 2.5j)"
   ]
  },
  {
   "cell_type": "code",
   "execution_count": null,
   "metadata": {
    "pycharm": {
     "name": "#%%\n"
    }
   },
   "outputs": [],
   "source": [
    "type(3 > 5)"
   ]
  },
  {
   "cell_type": "markdown",
   "metadata": {},
   "source": [
    "类型转换（type casting）:"
   ]
  },
  {
   "cell_type": "code",
   "execution_count": null,
   "metadata": {
    "pycharm": {
     "name": "#%%\n"
    }
   },
   "outputs": [],
   "source": [
    "a = 1.5\n",
    "a = int(1.5)\n",
    "print(a, type(a))"
   ]
  },
  {
   "cell_type": "code",
   "execution_count": null,
   "metadata": {
    "pycharm": {
     "name": "#%%\n"
    }
   },
   "outputs": [],
   "source": [
    "a = 10\n",
    "b = 2.5\n",
    "c = a / b\n",
    "print(c, type(c))"
   ]
  },
  {
   "cell_type": "code",
   "execution_count": null,
   "metadata": {
    "pycharm": {
     "name": "#%%\n"
    }
   },
   "outputs": [],
   "source": [
    "a = float(\"35.690\")  # str to float\n",
    "print(a, type(a))"
   ]
  },
  {
   "cell_type": "markdown",
   "metadata": {
    "pycharm": {
     "name": "#%% md\n"
    }
   },
   "source": [
    "------\n",
    "\n",
    "## 变量\n",
    "数据保存在变量中。变量是数据的一个名称。在Python中不需要声明变量。值和数据类型都可以在运行时更改。"
   ]
  },
  {
   "cell_type": "code",
   "execution_count": null,
   "metadata": {
    "pycharm": {
     "name": "#%%\n"
    }
   },
   "outputs": [],
   "source": [
    "a = 5\n",
    "b = \"hello world\"\n",
    "print(a, \"has a type of \", type(a))\n",
    "print(b, \"has a type of \", type(b))\n",
    "\n",
    "a = 10\n",
    "b = 12.5\n",
    "print(\"Now 'a' has a value of \", a)\n",
    "print(\"Now 'b' has a type of \", type(b))"
   ]
  },
  {
   "cell_type": "markdown",
   "metadata": {
    "pycharm": {
     "name": "#%% md\n"
    }
   },
   "source": [
    "`a = 5`这个操作后面发生了什么？让我们更深入地研究它。请记住，Python中万物皆为对象（object）。这对于Python语言很重要，并且会在许多方面影响Python的编程方式。整数，浮点数，列表，函数，类等都是对象。Python变量是对对象的引用，但是实际数据是存储在对象中。 因此，对于`a = 5`，将创建一个整数对象`5`并将其分配给名为`a`的变量。整数对象存储在内存中，而`a`只是指向该对象的名称而已。如果我们让`b = a`，那么a和b都指向整数对象5。`b`是整数对象`5`的别名而已。 在[这里](https://www.python-course.eu/python3_variables.php)阅读更多内容。\n",
    "\n",
    "那么请思考，既然`a`和`b`都指向整数`5`，那我改变`b`的值`a`的值会发生变化吗？"
   ]
  },
  {
   "cell_type": "code",
   "execution_count": null,
   "metadata": {
    "pycharm": {
     "name": "#%%\n"
    }
   },
   "outputs": [],
   "source": [
    "a = 10\n",
    "b = a\n",
    "b = 9\n",
    "print(\"a = \", a)\n",
    "print(\"b = \", b)"
   ]
  },
  {
   "cell_type": "markdown",
   "metadata": {
    "pycharm": {
     "name": "#%% md\n"
    }
   },
   "source": [
    "------\n",
    "\n",
    "## 数据结构\n",
    "Python常用的数据结构包括**列表（list）**、**元组（tuple）**、**字典（dictionary）**和**字符串（string）**。\n",
    "\n",
    "### Mutability（变异性）\n",
    "非常重要的一个概念。回到上面的列子，按照正常的逻辑当`b`的值改变后，`a`的值也应该发生变化，因为他们同时指向同一个内存点，改变`b`得值等同于改变了\n",
    "当前内存点所存储的值，那`a`的值也应当变了。"
   ]
  },
  {
   "cell_type": "code",
   "execution_count": null,
   "metadata": {
    "pycharm": {
     "name": "#%%\n"
    }
   },
   "outputs": [],
   "source": [
    "a = 10\n",
    "b = a\n",
    "b = 9\n",
    "print(\"a = \", a)\n",
    "print(\"b = \", b)"
   ]
  },
  {
   "cell_type": "markdown",
   "metadata": {
    "pycharm": {
     "name": "#%% md\n"
    }
   },
   "source": [
    "运行后我们发现`a`的值并没有发生改变。原因就是Python中有两种数据存储的方式：immutable 和 mutable。对于前者，代码中一旦定义后其值将无法改变，除非重新赋值。\n",
    "上述操作过程中当把`a`的值赋给`b`然后改变`b`的值时，因为`a`属于immutable object，Python实际上重新分配一个新的整数类给`b`，其值为`9`。\n",
    "相当于有两个完全独立的整数，占两份内存。稍后我们会学习mutable object，情况完全相反。\n",
    "\n",
    "### 列表（list）\n",
    "\n",
    "用于存储多个或者多维数据。列表的定义方式为`[..., ..., ...]`，由中括号定义，各个元素有逗号分开。切记：列表是mutable object。"
   ]
  },
  {
   "cell_type": "code",
   "execution_count": null,
   "metadata": {
    "pycharm": {
     "name": "#%%\n"
    }
   },
   "outputs": [],
   "source": [
    "a = [1, 2, 3, 4.5, \"James\"]  # contains different data types\n",
    "b = [1, 2, 3, 4.5, \"James\", [10.5, \"David\"]]  # nested list"
   ]
  },
  {
   "cell_type": "markdown",
   "metadata": {
    "pycharm": {
     "name": "#%% md\n"
    }
   },
   "source": [
    "可以通过索引号和切片的办法来访问和改变列表里面各元素的值，并且可以利用自带的函数来对列表进行操作（如增加，删除元素等）。记住Python里面数据结构的索引号从`0`开始，而不是`1`，\n",
    "而且支持负的索引号。"
   ]
  },
  {
   "cell_type": "code",
   "execution_count": null,
   "metadata": {
    "pycharm": {
     "name": "#%%\n"
    }
   },
   "outputs": [],
   "source": [
    "b = [1, 2, 3, 4.5, \"James\", [10.5, \"David\"]]\n",
    "print(b[0])\n",
    "print(b[0:3])\n",
    "print(b[-1])\n",
    "print(b[5][1])\n",
    "b[0] = 100.5\n",
    "b[5][1] = \"James\"\n",
    "print(b)\n",
    "\n",
    "b.extend([1000, 2000, \"hello\"])\n",
    "print(b)\n",
    "b.append([1000, 2000, \"hello\"])\n",
    "print(b)"
   ]
  },
  {
   "cell_type": "markdown",
   "metadata": {
    "pycharm": {
     "name": "#%% md\n"
    }
   },
   "source": [
    "可以使用list comprehension 来方便快捷的创建列表。"
   ]
  },
  {
   "cell_type": "code",
   "execution_count": null,
   "metadata": {
    "pycharm": {
     "name": "#%%\n"
    }
   },
   "outputs": [],
   "source": [
    "print( [i**2 for i in range(10) if i > 3] )  # with condition\n",
    "print( [i * j for i in range(5) for j in range(6) if i > 2 and j < 4] )  # nested\n",
    "print( [[i - j for i in range(3)] for j in range(4)] )  # nested. 4 x 3 matrix"
   ]
  },
  {
   "cell_type": "markdown",
   "metadata": {
    "pycharm": {
     "name": "#%% md\n"
    }
   },
   "source": [
    "来看看列表的变异性。"
   ]
  },
  {
   "cell_type": "code",
   "execution_count": null,
   "metadata": {
    "pycharm": {
     "name": "#%%\n"
    }
   },
   "outputs": [],
   "source": [
    "a = [10]\n",
    "b = a\n",
    "b[0] = 9.5\n",
    "print(\"a = \", a)\n",
    "print(\"b = \", b)"
   ]
  },
  {
   "cell_type": "markdown",
   "metadata": {
    "pycharm": {
     "name": "#%% md\n"
    }
   },
   "source": [
    "### 元组（tuple）\n",
    "\n",
    "用于存储多个或者多维数据。列表的定义方式为`(..., ..., ...)`，由小括号定义，各个元素有逗号分开。切记：列表是immutable object。"
   ]
  },
  {
   "cell_type": "code",
   "execution_count": null,
   "metadata": {
    "pycharm": {
     "name": "#%%\n"
    }
   },
   "outputs": [],
   "source": [
    "a = (1, 2, 3, 4)\n",
    "print(a[2])\n",
    "a[0] = 100.  # you will get an error as tuples are immutable."
   ]
  },
  {
   "cell_type": "markdown",
   "metadata": {
    "pycharm": {
     "name": "#%% md\n"
    }
   },
   "source": [
    "### 字典（dictionary）\n",
    "\n",
    "字典与列表元组相似，有大括号定义，但是每组元素成对出现，前者为键，后者为值，每组元素有逗号分开，键和值由冒号分开。 记住键为immutable object，值为mutable object。\n",
    "某组元素的值有键来访问，而不是索引号。"
   ]
  },
  {
   "cell_type": "code",
   "execution_count": null,
   "metadata": {
    "pycharm": {
     "name": "#%%\n"
    }
   },
   "outputs": [],
   "source": [
    "a = { \"triangle_x\": [1, 5, 9], \"triangle_y\": [7, -5, 4] }\n",
    "print(a[\"triangle_x\"])\n",
    "print(a.keys())\n",
    "print(a.values())\n",
    "\n",
    "b = {(\"a\", \"b\"): 150}  # ok\n",
    "print(b)\n",
    "c = {[\"a\", \"b\"]: 150}  # not ok\n",
    "print(c)"
   ]
  },
  {
   "cell_type": "markdown",
   "metadata": {},
   "source": [
    "字典的comprehension操作:"
   ]
  },
  {
   "cell_type": "code",
   "execution_count": null,
   "metadata": {
    "pycharm": {
     "name": "#%%\n"
    }
   },
   "outputs": [],
   "source": [
    "{ 'ID{:002d}'.format(i): i**2 + i for i in range(6) if i > 2 }"
   ]
  },
  {
   "cell_type": "markdown",
   "metadata": {},
   "source": [
    "### 字符串（String）\n",
    "字符串是immutable object， 通过索引号可访问单个元素。"
   ]
  },
  {
   "cell_type": "code",
   "execution_count": null,
   "metadata": {
    "pycharm": {
     "name": "#%%\n"
    }
   },
   "outputs": [],
   "source": [
    "s = \"Python\"\n",
    "print(s[1])\n",
    "\n",
    "s = s + \" is a general-purpose language.\" + \" It features ......\"\n",
    "print(s)"
   ]
  },
  {
   "cell_type": "markdown",
   "metadata": {},
   "source": [
    "字符串的格式化："
   ]
  },
  {
   "cell_type": "code",
   "execution_count": null,
   "metadata": {
    "pycharm": {
     "name": "#%%\n"
    }
   },
   "outputs": [],
   "source": [
    "s1 = 'value1 = {0:4.2f}, value2 = {1}'.format(3.1415, 1.5)  # new style\n",
    "print(s1)\n",
    "s2 = 'value1 = %4.2f, value2 = %s' % (3.1415, 1.5)  # old style\n",
    "print(s2)"
   ]
  },
  {
   "cell_type": "markdown",
   "metadata": {},
   "source": [
    "字符串的连接： 可以用`+`或者 `\"\".join(list)`函数。前者速度慢、占内存，后者快，占内存小。"
   ]
  },
  {
   "cell_type": "code",
   "execution_count": null,
   "metadata": {
    "pycharm": {
     "name": "#%%\n"
    }
   },
   "outputs": [],
   "source": [
    "# slow\n",
    "s = \"Python \" + \"is \" + \"a \" + \"general-purpose \" + \"language. \" + \"It \" + \"features \" + \"......\"\n",
    "print(s)\n",
    "\n",
    "# faster\n",
    "s = \" \".join([\"Python\", \"is\", \"a\", \"general-purpose\", \"language.\", \"It\", \"features\", \"......\"])\n",
    "print(s)"
   ]
  },
  {
   "cell_type": "markdown",
   "metadata": {},
   "source": [
    "------"
   ]
  }
 ],
 "metadata": {
  "kernelspec": {
   "display_name": "Python 3",
   "language": "python",
   "name": "python3"
  },
  "language_info": {
   "codemirror_mode": {
    "name": "ipython",
    "version": 3
   },
   "file_extension": ".py",
   "mimetype": "text/x-python",
   "name": "python",
   "nbconvert_exporter": "python",
   "pygments_lexer": "ipython3",
   "version": "3.8.5"
  }
 },
 "nbformat": 4,
 "nbformat_minor": 1
}